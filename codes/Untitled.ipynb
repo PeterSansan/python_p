{
 "cells": [
  {
   "cell_type": "code",
   "execution_count": 25,
   "metadata": {
    "collapsed": false
   },
   "outputs": [
    {
     "name": "stdout",
     "output_type": "stream",
     "text": [
      "1->3->5->7\n",
      "3->1->7->5\n"
     ]
    }
   ],
   "source": [
    "import string\n",
    "str = raw_input()\n",
    "str_list = string.split(str,'->')\n",
    "x = len(str_list)\n",
    "str =''\n",
    "for i,num in enumerate(str_list):\n",
    "    if i%2 == 1 :\n",
    "        str = str+str_list[i]+\"->\"+str_list[i-1]\n",
    "        if i<x-1:\n",
    "            str=str+\"->\"\n",
    "        \n",
    "if x%2==1:\n",
    "    str = str+str_list[-1]\n",
    "print str"
   ]
  },
  {
   "cell_type": "code",
   "execution_count": 58,
   "metadata": {
    "collapsed": false
   },
   "outputs": [],
   "source": [
    "import numpy as np\n",
    "from __future__ import division"
   ]
  },
  {
   "cell_type": "code",
   "execution_count": 76,
   "metadata": {
    "collapsed": false
   },
   "outputs": [
    {
     "name": "stdout",
     "output_type": "stream",
     "text": [
      "1 0 3\n"
     ]
    }
   ],
   "source": [
    "x =  (int(x) for x in raw_input().split(' '))\n",
    "x = list(x)"
   ]
  },
  {
   "cell_type": "code",
   "execution_count": 77,
   "metadata": {
    "collapsed": false
   },
   "outputs": [
    {
     "name": "stdout",
     "output_type": "stream",
     "text": [
      "2 0 1 2\n"
     ]
    }
   ],
   "source": [
    "y = (int(x) for x in raw_input().split(' '))\n",
    "y = list(y)"
   ]
  },
  {
   "cell_type": "code",
   "execution_count": 68,
   "metadata": {
    "collapsed": false
   },
   "outputs": [],
   "source": [
    "def lianFenShu(x):\n",
    "    a = x[-1]\n",
    "    for i in range(-1,-len(x),-1):\n",
    "        a = x[i-1]+1/a\n",
    "    return a"
   ]
  },
  {
   "cell_type": "code",
   "execution_count": 79,
   "metadata": {
    "collapsed": false
   },
   "outputs": [
    {
     "name": "stdout",
     "output_type": "stream",
     "text": [
      "4.0\n",
      "3.5\n"
     ]
    }
   ],
   "source": [
    "print lianFenShu(x)\n",
    "print lianFenShu(y)"
   ]
  },
  {
   "cell_type": "code",
   "execution_count": 70,
   "metadata": {
    "collapsed": false
   },
   "outputs": [
    {
     "name": "stdout",
     "output_type": "stream",
     "text": [
      "=\n"
     ]
    }
   ],
   "source": [
    "if lianFenShu(x)>lianFenShu(y):\n",
    "    print '>'\n",
    "elif lianFenShu(x)<lianFenShu(y):\n",
    "    print '<'\n",
    "else:\n",
    "    print '='"
   ]
  },
  {
   "cell_type": "code",
   "execution_count": 75,
   "metadata": {
    "collapsed": false
   },
   "outputs": [
    {
     "data": {
      "text/plain": [
       "0.68"
      ]
     },
     "execution_count": 75,
     "metadata": {},
     "output_type": "execute_result"
    }
   ],
   "source": [
    "17/25\n"
   ]
  },
  {
   "cell_type": "code",
   "execution_count": 4,
   "metadata": {
    "collapsed": false
   },
   "outputs": [],
   "source": [
    "import matplotlib.pyplot as plt\n",
    "import numpy as np\n",
    "import matplotlib as mpl"
   ]
  },
  {
   "cell_type": "code",
   "execution_count": 10,
   "metadata": {
    "collapsed": false
   },
   "outputs": [
    {
     "data": {
      "image/png": "[encoded data removed]",
      "text/plain": [
       "<matplotlib.figure.Figure at 0x7fe26bfc96d0>"
      ]
     },
     "metadata": {},
     "output_type": "display_data"
    },
    {
     "data": {
      "image/png": "[encoded data removed]",
      "text/plain": [
       "<matplotlib.figure.Figure at 0x7fe26bcbb5d0>"
      ]
     },
     "metadata": {},
     "output_type": "display_data"
    }
   ],
   "source": [
    "x = np.linspace(0, 5, 100)\n",
    "\n",
    "# 通过下面曲线加上噪声生成数据，所以拟合模型就用y了……\n",
    "y = 2*np.sin(x) + 0.3*x**2\n",
    "y_data = y + np.random.normal(scale=0.3, size=100)\n",
    "plt.figure('data')\n",
    "\n",
    "# '.'标明画散点图，每个散点的形状是个圆\n",
    "plt.plot(x, y_data, '.')\n",
    "\n",
    "# 画模型的图，plot函数默认画连线图\n",
    "plt.figure('model')\n",
    "plt.plot(x, y)\n",
    "\n",
    "plt.show()"
   ]
  },
  {
   "cell_type": "code",
   "execution_count": null,
   "metadata": {
    "collapsed": false
   },
   "outputs": [],
   "source": [
    "import numpy as np\n",
    "a = raw_input()"
   ]
  },
  {
   "cell_type": "code",
   "execution_count": null,
   "metadata": {
    "collapsed": true
   },
   "outputs": [],
   "source": []
  }
 ],
 "metadata": {
  "kernelspec": {
   "display_name": "Python 2",
   "language": "python",
   "name": "python2"
  },
  "language_info": {
   "codemirror_mode": {
    "name": "ipython",
    "version": 2
   },
   "file_extension": ".py",
   "mimetype": "text/x-python",
   "name": "python",
   "nbconvert_exporter": "python",
   "pygments_lexer": "ipython2",
   "version": "2.7.6"
  }
 },
 "nbformat": 4,
 "nbformat_minor": 2
}

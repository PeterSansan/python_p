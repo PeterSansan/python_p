{
 "cells": [
  {
   "cell_type": "markdown",
   "metadata": {},
   "source": [
    "# python基本语法"
   ]
  },
  {
   "cell_type": "markdown",
   "metadata": {},
   "source": [
    "## 1、基本数据类型和运算"
   ]
  },
  {
   "cell_type": "code",
   "execution_count": 1,
   "metadata": {
    "collapsed": false
   },
   "outputs": [],
   "source": [
    "# -*- coding: UTF-8 -*- #但这样做，只是让你的程序在运行的过程中显示中文，\n",
    "                        #如果你要将中文字符存储在文件中，或者写入到数据库中，这样的设置是不能满足你的需要。\n",
    "import sys\n",
    "reload(sys)\n",
    "sys.setdefaultencoding('utf-8')\n",
    "a = 1  # 整型\n",
    "b = 1.2 # 浮点数\n",
    "c = True # 布尔类型\n",
    "d = \"xyz\" # 字符串\n",
    "d = None # NoneType"
   ]
  },
  {
   "cell_type": "code",
   "execution_count": 2,
   "metadata": {
    "collapsed": false
   },
   "outputs": [
    {
     "data": {
      "text/plain": [
       "NoneType"
      ]
     },
     "execution_count": 2,
     "metadata": {},
     "output_type": "execute_result"
    }
   ],
   "source": [
    "type(d)"
   ]
  },
  {
   "cell_type": "code",
   "execution_count": 3,
   "metadata": {
    "collapsed": false
   },
   "outputs": [
    {
     "data": {
      "text/plain": [
       "43045240"
      ]
     },
     "execution_count": 3,
     "metadata": {},
     "output_type": "execute_result"
    }
   ],
   "source": [
    "id(a)"
   ]
  },
  {
   "cell_type": "code",
   "execution_count": 4,
   "metadata": {
    "collapsed": false
   },
   "outputs": [
    {
     "data": {
      "text/plain": [
       "0"
      ]
     },
     "execution_count": 4,
     "metadata": {},
     "output_type": "execute_result"
    }
   ],
   "source": [
    "1/2"
   ]
  },
  {
   "cell_type": "markdown",
   "metadata": {},
   "source": [
    "2)Python2中两个数值相除会根据数值类型判断是否整数除法，Python3种则都按照浮点数。想要在Python2种也执行Python3中的除法只要执行下面语句："
   ]
  },
  {
   "cell_type": "code",
   "execution_count": 5,
   "metadata": {
    "collapsed": false
   },
   "outputs": [
    {
     "data": {
      "text/plain": [
       "0.5"
      ]
     },
     "execution_count": 5,
     "metadata": {},
     "output_type": "execute_result"
    }
   ],
   "source": [
    "from __future__ import division\n",
    "1/2"
   ]
  },
  {
   "cell_type": "markdown",
   "metadata": {},
   "source": [
    "3)字符串前加r表示字符串内容严格按照输入的样子，好处是不用转义符了，非常方便。"
   ]
  },
  {
   "cell_type": "code",
   "execution_count": 6,
   "metadata": {
    "collapsed": false
   },
   "outputs": [],
   "source": [
    "e = r'\\n\\t\\\\'\n",
    "print(e)"
   ]
  },
  {
   "cell_type": "code",
   "execution_count": 7,
   "metadata": {
    "collapsed": false
   },
   "outputs": [
    {
     "data": {
      "text/plain": [
       "False"
      ]
     },
     "execution_count": 7,
     "metadata": {},
     "output_type": "execute_result"
    }
   ],
   "source": [
    "#　布尔操作\n",
    "a = True\n",
    "b = False\n",
    "a and b     # False\n",
    "a or b      # True\n",
    "not a       # False"
   ]
  },
  {
   "cell_type": "code",
   "execution_count": 8,
   "metadata": {
    "collapsed": false
   },
   "outputs": [
    {
     "data": {
      "text/plain": [
       "5"
      ]
     },
     "execution_count": 8,
     "metadata": {},
     "output_type": "execute_result"
    }
   ],
   "source": [
    "# 位操作\n",
    "~8      # 按位翻转，1000 --> -(1000+1)\n",
    "8 >> 3  # 右移3位，1000 --> 0001\n",
    "1 << 3  # 左移3位，0001 --> 1000\n",
    "5 & 2   # 按位与，101 & 010 = 000\n",
    "5 | 2   # 按位或，101 | 010 = 111\n",
    "4 ^ 1   # 按位异或，100 ^ 001 = 101"
   ]
  },
  {
   "cell_type": "markdown",
   "metadata": {},
   "source": [
    "## 2、容器"
   ]
  },
  {
   "cell_type": "markdown",
   "metadata": {},
   "source": [
    "### 列表list"
   ]
  },
  {
   "cell_type": "code",
   "execution_count": 9,
   "metadata": {
    "collapsed": false
   },
   "outputs": [],
   "source": [
    "a=[1,2,3]\n",
    "a.pop()             # 把最后一个值4从列表中移除并作为pop的返回值\n",
    "a.append(5)         # 末尾插入值，[1, 2, 3, 5]\n",
    "a.index(2)          # 找到第一个2所在的位置，也就是1\n",
    "a[2]                # 取下标，也就是位置在2的值，也就是第三个值3\n",
    "a += [4, 3, 2]      # 拼接，[1, 2, 3, 5, 4, 3, 2]\n",
    "a.insert(1, 0)      # 在下标为1处插入元素0，[1, 0, 2, 3, 5, 4, 3, 2]\n",
    "a.remove(2)         # 移除第一个2，[1, 0, 3, 5, 4, 3, 2]\n",
    "a.reverse()         # 倒序，a变为[2, 3, 4, 5, 3, 0, 1]\n",
    "a[3] = 9            # 指定下标处赋值，[2, 3, 4, 9, 3, 0, 1]\n",
    "b = a[2:5]          # 取下标2开始到5之前的子序列，[4, 9, 3]\n",
    "c = a[2:-2]         # 下标也可以倒着数，方便算不过来的人，[4, 9, 3]\n",
    "d = a[2:]           # 取下标2开始到结尾的子序列，[4, 9, 3, 0, 1]\n",
    "e = a[:5]           # 取开始到下标5之前的子序列，[2, 3, 4, 9, 3]\n",
    "f = a[:]            # 取从开头到最后的整个子序列，相当于值拷贝，[2, 3, 4, 9, 3, 0, 1]\n",
    "a[2:-2] = [1, 2, 3] # 赋值也可以按照一段来，[2, 3, 1, 2, 3, 0, 1]\n",
    "g = a[::-1]\t    # 也是倒序，通过slicing实现并赋值，效率略低于reverse()\n",
    "a.sort()\n",
    "print(a)            # 列表内排序，a变为[0, 1, 1, 2, 2, 3, 3]\n",
    "del a[0]            # 删除第一个数\n",
    "print(a)"
   ]
  },
  {
   "cell_type": "markdown",
   "metadata": {},
   "source": [
    "因为列表是有顺序的，所以和顺序相关的操作是列表中最常见的，首先我们来打乱一个列表的顺序，然后再对这个列表排序："
   ]
  },
  {
   "cell_type": "code",
   "execution_count": 10,
   "metadata": {
    "collapsed": false
   },
   "outputs": [],
   "source": [
    "import random\n",
    "a = range(10)                 # 生成一个列表，从0开始+1递增到9\n",
    "print(a)                       # [0, 1, 2, 3, 4, 5, 6, 7, 8, 9]\n",
    "random.shuffle(a)             # shuffle函数可以对可遍历且可变结构打乱顺序\n",
    "print(a)                       # [4, 3, 8, 9, 0, 6, 2, 7, 5, 1]\n",
    "b = sorted(a)               \n",
    "print(b)                       # [0, 1, 2, 3, 4, 5, 6, 7, 8, 9]\n",
    "c = sorted(a, reverse=True)\n",
    "print(c)                       # [9, 8, 7, 6, 5, 4, 3, 2, 1, 0]"
   ]
  },
  {
   "cell_type": "markdown",
   "metadata": {},
   "source": [
    "### 元组tuple"
   ]
  },
  {
   "cell_type": "markdown",
   "metadata": {},
   "source": [
    "元组和列表有很多相似的地方，最大的区别在于不可变，还有如果初始化只包含一个元素的tuple和列表不一样，因为语法必须明确，所以必须在元素后加上逗号。另外直接用逗号分隔多个元素赋值默认是个tuple，这在函数多返回值的时候很好用："
   ]
  },
  {
   "cell_type": "code",
   "execution_count": 11,
   "metadata": {
    "collapsed": false
   },
   "outputs": [],
   "source": [
    "a = (1, 2)\n",
    "b = tuple(['3', 4]) # 也可以从列表初始化\n",
    "c = (5,)\n",
    "print(c)            # (5,)\n",
    "d = (6)\n",
    "print(d)            # 6\n",
    "e = 3, 4, 5\n",
    "print(e)            # (3, 4, 5)"
   ]
  },
  {
   "cell_type": "markdown",
   "metadata": {},
   "source": [
    "### 集合set"
   ]
  },
  {
   "cell_type": "markdown",
   "metadata": {},
   "source": [
    "集合是一种很有用的数学操作，比如列表去重，或是理清两组数据之间的关系，集合的操作符和位操作符有交集，注意不要弄混"
   ]
  },
  {
   "cell_type": "code",
   "execution_count": 12,
   "metadata": {
    "collapsed": false
   },
   "outputs": [],
   "source": [
    "A = set([1, 2, 3, 4])\n",
    "B = {3, 4, 5, 6}\n",
    "C = set([1, 1, 2, 2, 2, 3, 3, 3, 3])\n",
    "print(C)        # 集合的去重效果，set([1, 2, 3])\n",
    "print(A | B)    # 求并集，set([1, 2, 3, 4, 5, 6])\n",
    "print(A & B)    # 求交集，set([3, 4])\n",
    "print(A - B)    # 求差集，属于A但不属于B的，set([1, 2])\n",
    "print(B - A)    # 求差集，属于B但不属于A的，set([5, 6])\n",
    "print(A ^ B)    # 求对称差集，相当于(A-B)|(B-A)，set([1, 2, 5, 6])"
   ]
  },
  {
   "cell_type": "markdown",
   "metadata": {},
   "source": [
    "### 字典dict"
   ]
  },
  {
   "cell_type": "markdown",
   "metadata": {},
   "source": [
    "字典是一种非常常见的“键-值”(key-value)映射结构，键无重复，一个键不能对应多个值，不过多个键可以指向一个值。还是通过例子来了解，构建一个名字->年龄的字典，并执行一些常见操作："
   ]
  },
  {
   "cell_type": "code",
   "execution_count": 13,
   "metadata": {
    "collapsed": false
   },
   "outputs": [],
   "source": [
    "a = {'Tom': 8, 'Jerry': 7}\n",
    "print(a['Tom'])             # 8\n",
    "b = dict(Tom=8, Jerry=7)    # 一种字符串作为键更方便的初始化方式\n",
    "print(b['Tom'])             # 8\n",
    "if 'Jerry' in a:            # 判断'Jerry'是否在keys里面\n",
    "    print(a['Jerry'])        # 7\n",
    "print(a.get('Spike'))       # None，通过get获得值，即使键不存在也不会报异常\n",
    "a['Spike'] = 10\n",
    "a['Tyke'] = 3\n",
    "a.update({'Tuffy': 2, 'Mammy Two Shoes': 42})\n",
    "print(a.values())   # dict_values([8, 2, 3, 7, 10, 42])\n",
    "print(a.pop('Mammy Two Shoes'))     # 移除'Mammy Two Shoes'的键值对，并返回42\n",
    "print(a.keys())     # dict_keys(['Tom', 'Tuffy', 'Tyke', 'Jerry', 'Spike']) "
   ]
  },
  {
   "cell_type": "markdown",
   "metadata": {},
   "source": [
    "注意到初始化字典和集合很像，的确如此，集合就像是没有值只有键的字典。既然有了人名到年龄的映射，也许你立马想到是否可以给字典排序？在Python3.6之前，这个问题是错误的，字典是一种映射关系，没有顺序。当然了，如果要把(键, 值)的这种对进行排序，是没有问题的，前提是先把字典转化成可排序的结构，items()或者iteritems()可以做到这件事，接上段代码继续："
   ]
  },
  {
   "cell_type": "code",
   "execution_count": 14,
   "metadata": {
    "collapsed": false
   },
   "outputs": [],
   "source": [
    "b = a.items()\n",
    "print(b)  # [('Tuffy', 2), ('Spike', 10), ('Tom', 8), ('Tyke', 3), ('Jerry', 7)]\n",
    "from operator import itemgetter\n",
    "c = sorted(a.items(), key=itemgetter(1))\n",
    "print(c)  # [('Tuffy', 2), ('Tyke', 3), ('Jerry', 7), ('Tom', 8), ('Spike', 10)]\n",
    "d = sorted(a.iteritems(), key=itemgetter(1))\n",
    "print(d)  # [('Tuffy', 2), ('Tyke', 3), ('Jerry', 7), ('Tom', 8), ('Spike', 10)]\n",
    "e = sorted(a)\n",
    "print(e)  # 只对键排序，['Jerry', 'Spike', 'Tom', 'Tuffy', 'Tyke']"
   ]
  },
  {
   "cell_type": "markdown",
   "metadata": {},
   "source": [
    "items()可以把字典中的键值对转化成一个列表，其中每个元素是一个tuple，tuple的第一个元素是键，第二个元素是值。变量c是按照值排序，所以需要一个操作符itemgetter，去位置为1的元素作为排序参考，如果直接对字典排序，则其实相当于只是对键排序。字典被当作一个普通的可遍历结构使用时，都相当于遍历字典的键。如果觉得字典没有顺序不方便，可以考虑使用OrderedDict，使用方式如下："
   ]
  },
  {
   "cell_type": "code",
   "execution_count": 15,
   "metadata": {
    "collapsed": false
   },
   "outputs": [],
   "source": [
    "from collections import OrderedDict\n",
    "a = {1: 2, 3: 4, 5: 6, 7: 8, 9: 10}\n",
    "b = OrderedDict({1: 2, 3: 4, 5: 6, 7: 8, 9: 10})\n",
    "print(a)    # {1: 2, 3: 4, 9: 10, 5: 6, 7: 8}\n",
    "print(b)    # OrderedDict([(1, 2), (3, 4), (9, 10), (5, 6), (7, 8)])"
   ]
  },
  {
   "cell_type": "markdown",
   "metadata": {},
   "source": [
    "##  3、分支和循环"
   ]
  },
  {
   "cell_type": "code",
   "execution_count": 16,
   "metadata": {
    "collapsed": false
   },
   "outputs": [],
   "source": [
    "a = ['This','is','a','list','l']\n",
    "b = ['This','is','a','tuple','l']\n",
    "c = {'This':'is','an':'unordered','dict':'!'}\n",
    "\n",
    "# 依次输出：\n",
    "for x in a:\n",
    "    print(x)\n",
    "\n",
    "for key in c:\n",
    "    print(key)\n",
    "    \n",
    "for i in range(10):\n",
    "    print(i)"
   ]
  },
  {
   "cell_type": "code",
   "execution_count": 17,
   "metadata": {
    "collapsed": false
   },
   "outputs": [],
   "source": [
    "names  = ['Rick','Diryl','Glenn']\n",
    "\n",
    "for i, name in enumerate(names):\n",
    "    print(i,name)"
   ]
  },
  {
   "cell_type": "markdown",
   "metadata": {},
   "source": [
    "在使用for循环时，有时会遇到这样一种场景：我们需要对遍历的每个元素进行某种判断，如果符合这种判断的情况没有发生，则执行一个操作。举个例子某神秘部门要审核一个字符串列表，如果没有发现不和谐的字眼，则将内容放心通过，一种解决办法是下面这样："
   ]
  },
  {
   "cell_type": "code",
   "execution_count": 18,
   "metadata": {
    "collapsed": false
   },
   "outputs": [],
   "source": [
    "wusuowei = [\"I\", \"don't\", \"give\", \"a\", \"shit\"]  # 无所谓\n",
    "hexie = True\n",
    "for x in wusuowei:\n",
    "    if x == \"f**k\":              #准确的要使用re正则化语言\n",
    "        print(\"What the f**k\")   #发现了不该出现的东西，WTF\n",
    "        hexie = False            #不和谐了\n",
    "        break                   \n",
    "\n",
    "if hexie:\n",
    "    print(\"Harmonious society!\")  # 和谐社会!"
   ]
  },
  {
   "cell_type": "markdown",
   "metadata": {},
   "source": [
    "### if表达式"
   ]
  },
  {
   "cell_type": "code",
   "execution_count": 19,
   "metadata": {
    "collapsed": false
   },
   "outputs": [],
   "source": [
    "pets =['dog', 'cat', 'droid', 'fly']\n",
    "\n",
    "for pet in pets:\n",
    "    if pet == 'dog':        # 狗粮\n",
    "        food = 'steak'      # 牛排\n",
    "    elif pet == 'cat':      # 猫粮\n",
    "        food = 'milk'       # 牛奶\n",
    "    elif pet == 'droid':    # 机器人\n",
    "        food = 'oil'        # 机油\n",
    "    elif pet == 'fly':      # 苍蝇\n",
    "        food = 'sh*t'       # \n",
    "    else:\n",
    "        pass\n",
    "    print(food)"
   ]
  },
  {
   "cell_type": "markdown",
   "metadata": {},
   "source": [
    "#### if表达式中的小技巧"
   ]
  },
  {
   "cell_type": "code",
   "execution_count": 20,
   "metadata": {
    "collapsed": false
   },
   "outputs": [],
   "source": [
    "x = 'Yes'\n",
    "if -1< x <1:\n",
    "    print \"Yes\""
   ]
  },
  {
   "cell_type": "code",
   "execution_count": 21,
   "metadata": {
    "collapsed": false
   },
   "outputs": [],
   "source": [
    "# 判断一个值是不是包括在里面\n",
    "if x in ['Yes','No']:\n",
    "    print('HI')"
   ]
  },
  {
   "cell_type": "markdown",
   "metadata": {},
   "source": [
    "### while循环"
   ]
  },
  {
   "cell_type": "code",
   "execution_count": 22,
   "metadata": {
    "collapsed": false
   },
   "outputs": [],
   "source": [
    "i = 0\n",
    "while i < 5:  # 笑100遍\n",
    "    print(\"ha\")\n",
    "    i+=1\n",
    "\n",
    "# while True:     # 一直笑\n",
    "#    print(\"ha\")"
   ]
  },
  {
   "cell_type": "markdown",
   "metadata": {},
   "source": [
    "## 4、函数\n",
    "例子"
   ]
  },
  {
   "cell_type": "code",
   "execution_count": 23,
   "metadata": {
    "collapsed": false
   },
   "outputs": [],
   "source": [
    "moves = ['up', 'left', 'down', 'right']\n",
    "\n",
    "def move_up(x):         # 定义向上的操作\n",
    "    x[1] += 1\n",
    "\n",
    "def move_down(x):       # 定义向下的操作\n",
    "    x[1] -= 1\n",
    "\n",
    "def move_left(x):       # 定义向左的操作\n",
    "    x[0] -= 1\n",
    "\n",
    "def move_right(x):      # 定义向右的操作\n",
    "    x[0] += 1\n",
    "\n",
    "# 动作和执行的函数关联起来，函数作为键对应的值\n",
    "actions = {\n",
    "    'up': move_up,\n",
    "    'down': move_down,\n",
    "    'left': move_left,\n",
    "    'right': move_right\n",
    "}\n",
    "\n",
    "coord = [0, 0]\n",
    "\n",
    "for move in moves:\n",
    "    actions[move](coord)\n",
    "    print(coord)"
   ]
  },
  {
   "cell_type": "markdown",
   "metadata": {},
   "source": [
    "把函数作为值取到后，直接加一括号就能使了，这样做之后起码在循环部分看上去很简洁。有点C里边函数指针的意思，只不过更简单。其实这种用法在之前讲排序的时候我们已经见过了，就是operator中的itemgetter。itemgetter(1)得到的是一个可调用对象(callable object)，和返回下标为1的元素的函数用起来是一样的："
   ]
  },
  {
   "cell_type": "code",
   "execution_count": 24,
   "metadata": {
    "collapsed": false
   },
   "outputs": [],
   "source": [
    "def get_val_at_pos_1(x):\n",
    "    return x[1]\n",
    "\n",
    "heros = [\n",
    "    ('Superman', 99),\n",
    "    ('Batman', 100),\n",
    "    ('Joker', 85)\n",
    "]\n",
    "\n",
    "sorted_pairs0 = sorted(heros, key=get_val_at_pos_1)\n",
    "sorted_pairs1 = sorted(heros, key=lambda x: x[1])  # Lambda表达式在Python中是一种匿名函数，\n",
    "#lambda关键字后面跟输入参数，然后冒号后面是返回值（的表达式）\n",
    "\n",
    "print(sorted_pairs0)\n",
    "print(sorted_pairs1)"
   ]
  },
  {
   "cell_type": "markdown",
   "metadata": {
    "collapsed": true
   },
   "source": [
    "## 5、标准类型内建函数 "
   ]
  },
  {
   "cell_type": "markdown",
   "metadata": {},
   "source": [
    "#### 1) cmp \n",
    "比较a与了，根据比较结果返回整形i"
   ]
  },
  {
   "cell_type": "code",
   "execution_count": 25,
   "metadata": {
    "collapsed": true
   },
   "outputs": [],
   "source": [
    "a ='hello'\n",
    "b = 'World'\n",
    "c = 1 \n",
    "d = 2"
   ]
  },
  {
   "cell_type": "code",
   "execution_count": 26,
   "metadata": {
    "collapsed": false
   },
   "outputs": [
    {
     "data": {
      "text/plain": [
       "1"
      ]
     },
     "execution_count": 26,
     "metadata": {},
     "output_type": "execute_result"
    }
   ],
   "source": [
    "cmp(a,b)  # i<0 if a<b, i>0 if a>b ,i==0 if a=b"
   ]
  },
  {
   "cell_type": "code",
   "execution_count": 27,
   "metadata": {
    "collapsed": false
   },
   "outputs": [
    {
     "data": {
      "text/plain": [
       "-1"
      ]
     },
     "execution_count": 27,
     "metadata": {},
     "output_type": "execute_result"
    }
   ],
   "source": [
    "cmp(c,d)"
   ]
  },
  {
   "cell_type": "markdown",
   "metadata": {},
   "source": [
    "#### 2) type"
   ]
  },
  {
   "cell_type": "code",
   "execution_count": 28,
   "metadata": {
    "collapsed": false
   },
   "outputs": [
    {
     "data": {
      "text/plain": [
       "int"
      ]
     },
     "execution_count": 28,
     "metadata": {},
     "output_type": "execute_result"
    }
   ],
   "source": [
    "type(4)"
   ]
  },
  {
   "cell_type": "markdown",
   "metadata": {},
   "source": [
    "#### 3) str()"
   ]
  },
  {
   "cell_type": "code",
   "execution_count": 29,
   "metadata": {
    "collapsed": false
   },
   "outputs": [
    {
     "data": {
      "text/plain": [
       "'1234567'"
      ]
     },
     "execution_count": 29,
     "metadata": {},
     "output_type": "execute_result"
    }
   ],
   "source": [
    "a = 1234567\n",
    "str(a)"
   ]
  },
  {
   "cell_type": "markdown",
   "metadata": {},
   "source": [
    "#### 4) repr()\n",
    "repr()输出对Python比较友好，而str()的输出对用户比较友好。虽然如些，很多情况下两者的输出仍然都是一样的。"
   ]
  },
  {
   "cell_type": "code",
   "execution_count": 30,
   "metadata": {
    "collapsed": false
   },
   "outputs": [
    {
     "data": {
      "text/plain": [
       "'123456'"
      ]
     },
     "execution_count": 30,
     "metadata": {},
     "output_type": "execute_result"
    }
   ],
   "source": [
    "repr(123456)"
   ]
  },
  {
   "cell_type": "markdown",
   "metadata": {},
   "source": [
    "#### 5) eval\n",
    "将字符串str当成有效的表达式来求值并返回计算结果。"
   ]
  },
  {
   "cell_type": "code",
   "execution_count": 31,
   "metadata": {
    "collapsed": false
   },
   "outputs": [
    {
     "data": {
      "text/plain": [
       "12345"
      ]
     },
     "execution_count": 31,
     "metadata": {},
     "output_type": "execute_result"
    }
   ],
   "source": [
    "eval(repr(12345))"
   ]
  },
  {
   "cell_type": "code",
   "execution_count": 32,
   "metadata": {
    "collapsed": false
   },
   "outputs": [
    {
     "data": {
      "text/plain": [
       "[1, 2, 3, 4]"
      ]
     },
     "execution_count": 32,
     "metadata": {},
     "output_type": "execute_result"
    }
   ],
   "source": [
    "eval('[1,2,3,4]')"
   ]
  },
  {
   "cell_type": "markdown",
   "metadata": {},
   "source": [
    "## 6、杂项"
   ]
  },
  {
   "cell_type": "markdown",
   "metadata": {},
   "source": [
    "#### 转换工厂函数"
   ]
  },
  {
   "cell_type": "code",
   "execution_count": 33,
   "metadata": {
    "collapsed": false
   },
   "outputs": [],
   "source": [
    "print int(43.232432)\n",
    "print float(4)\n",
    "print bool(4)\n",
    "print long(34)\n",
    "print complex(4)"
   ]
  },
  {
   "cell_type": "markdown",
   "metadata": {},
   "source": [
    "#### 功能函数"
   ]
  },
  {
   "cell_type": "code",
   "execution_count": 34,
   "metadata": {
    "collapsed": false
   },
   "outputs": [],
   "source": [
    "print abs(-1)  #绝对值\n",
    "print coerce(1,2.4) # 统一类型的两个元素，然后以一个无组的形式返回\n",
    "print divmod(10,3)  # 返回商和余数\n",
    "print pow(3,2)      # 指数运算\n",
    "print round(4.6)    # 四舍五入运算"
   ]
  },
  {
   "cell_type": "markdown",
   "metadata": {},
   "source": [
    "#### 进制转换函数"
   ]
  },
  {
   "cell_type": "code",
   "execution_count": 35,
   "metadata": {
    "collapsed": false
   },
   "outputs": [],
   "source": [
    "print hex(255)\n",
    "print oct(12)"
   ]
  },
  {
   "cell_type": "markdown",
   "metadata": {},
   "source": [
    "#### unicode()/ASCII转换函数"
   ]
  },
  {
   "cell_type": "code",
   "execution_count": 36,
   "metadata": {
    "collapsed": false
   },
   "outputs": [
    {
     "data": {
      "text/plain": [
       "97"
      ]
     },
     "execution_count": 36,
     "metadata": {},
     "output_type": "execute_result"
    }
   ],
   "source": [
    "ord('a')  # 整型值转为字符"
   ]
  },
  {
   "cell_type": "code",
   "execution_count": 37,
   "metadata": {
    "collapsed": false
   },
   "outputs": [
    {
     "data": {
      "text/plain": [
       "'A'"
      ]
     },
     "execution_count": 37,
     "metadata": {},
     "output_type": "execute_result"
    }
   ],
   "source": [
    "chr(65)  # 字符转为字符串"
   ]
  },
  {
   "cell_type": "code",
   "execution_count": 38,
   "metadata": {
    "collapsed": false
   },
   "outputs": [
    {
     "data": {
      "text/plain": [
       "u'\\u3039'"
      ]
     },
     "execution_count": 38,
     "metadata": {},
     "output_type": "execute_result"
    }
   ],
   "source": [
    "unichr(12345)"
   ]
  },
  {
   "cell_type": "markdown",
   "metadata": {
    "collapsed": true
   },
   "source": [
    "### 复数"
   ]
  },
  {
   "cell_type": "code",
   "execution_count": 39,
   "metadata": {
    "collapsed": false
   },
   "outputs": [
    {
     "data": {
      "text/plain": [
       "3.0"
      ]
     },
     "execution_count": 39,
     "metadata": {},
     "output_type": "execute_result"
    }
   ],
   "source": [
    "a = 3 + 2j\n",
    "a.real   # 实部"
   ]
  },
  {
   "cell_type": "code",
   "execution_count": 40,
   "metadata": {
    "collapsed": false
   },
   "outputs": [
    {
     "data": {
      "text/plain": [
       "2.0"
      ]
     },
     "execution_count": 40,
     "metadata": {},
     "output_type": "execute_result"
    }
   ],
   "source": [
    "a.imag   # 虚部"
   ]
  },
  {
   "cell_type": "code",
   "execution_count": 41,
   "metadata": {
    "collapsed": false
   },
   "outputs": [
    {
     "data": {
      "text/plain": [
       "(3-2j)"
      ]
     },
     "execution_count": 41,
     "metadata": {},
     "output_type": "execute_result"
    }
   ],
   "source": [
    "a.conjugate()  # 共轭复数"
   ]
  },
  {
   "cell_type": "code",
   "execution_count": 42,
   "metadata": {
    "collapsed": false
   },
   "outputs": [
    {
     "data": {
      "text/plain": [
       "0.1"
      ]
     },
     "execution_count": 42,
     "metadata": {},
     "output_type": "execute_result"
    }
   ],
   "source": [
    "0.1"
   ]
  },
  {
   "cell_type": "markdown",
   "metadata": {},
   "source": [
    "#### 用步长索引来进行扩展的切片操作\n",
    "a[::1]第三个参数为步长参数或方向参数"
   ]
  },
  {
   "cell_type": "code",
   "execution_count": 43,
   "metadata": {
    "collapsed": false
   },
   "outputs": [],
   "source": [
    "s = 'abcdefgh'\n",
    "print s[::-1]  # 可以视作“翻转操作”\n",
    "print s[::2]   # 隔一个取一个的操作"
   ]
  },
  {
   "cell_type": "markdown",
   "metadata": {},
   "source": [
    "#### 序列类型可用的内建类型"
   ]
  },
  {
   "cell_type": "code",
   "execution_count": 44,
   "metadata": {
    "collapsed": false
   },
   "outputs": [],
   "source": [
    "seq = [3,5,1,9,7,2]\n",
    "for i,x in enumerate(['x','y','x']):\n",
    "    print i,x\n",
    "\n",
    "print len(seq)\n",
    "print max(seq)\n",
    "print list(reversed(seq))  # 接受一个序列作秋参数，返回一个以逆序访问的迭代器\n",
    "ll = reversed(seq)\n",
    "for i in ll:\n",
    "    print i,\n",
    "print\n",
    "print sorted(seq)\n",
    "print sum(seq)\n",
    "print zip(seq)"
   ]
  },
  {
   "cell_type": "markdown",
   "metadata": {},
   "source": [
    "#### 如何删除字符和字符串\n",
    "再重复一遍，字符串是不可变的，所以你不能仅仅删除一个字符串里的某个字符，你能做寿的是清空一个空字符串，或者是把剔除了不需要的部分后的字符串组合起来形成一个新串。假设你想要从“Hello Worcd!”里面删除小写的\"I\"。"
   ]
  },
  {
   "cell_type": "code",
   "execution_count": 45,
   "metadata": {
    "collapsed": false
   },
   "outputs": [
    {
     "data": {
      "text/plain": [
       "'Helo World!'"
      ]
     },
     "execution_count": 45,
     "metadata": {},
     "output_type": "execute_result"
    }
   ],
   "source": [
    "aString  = 'Hello World!'\n",
    "aString  = aString[:3]+aString[4:]\n",
    "aString"
   ]
  },
  {
   "cell_type": "code",
   "execution_count": 46,
   "metadata": {
    "collapsed": false
   },
   "outputs": [],
   "source": [
    "del aString # 在大部分应用程序里，没有必要显式的删除字符串。定义这个字符串的代码最终会结束，那时Python会自动释放这些字符串。"
   ]
  },
  {
   "cell_type": "markdown",
   "metadata": {},
   "source": [
    "#### string模块"
   ]
  },
  {
   "cell_type": "code",
   "execution_count": 47,
   "metadata": {
    "collapsed": false
   },
   "outputs": [
    {
     "data": {
      "text/plain": [
       "'ABCDEFGHIJKLMNOPQRSTUVWXYZ'"
      ]
     },
     "execution_count": 47,
     "metadata": {},
     "output_type": "execute_result"
    }
   ],
   "source": [
    "import string\n",
    "string.uppercase"
   ]
  },
  {
   "cell_type": "code",
   "execution_count": 48,
   "metadata": {
    "collapsed": false
   },
   "outputs": [
    {
     "data": {
      "text/plain": [
       "'abcdefghijklmnopqrstuvwxyz'"
      ]
     },
     "execution_count": 48,
     "metadata": {},
     "output_type": "execute_result"
    }
   ],
   "source": [
    "string.lowercase"
   ]
  },
  {
   "cell_type": "code",
   "execution_count": 49,
   "metadata": {
    "collapsed": false
   },
   "outputs": [
    {
     "data": {
      "text/plain": [
       "'ABCDEFGHIJKLMNOPQRSTUVWXYZabcdefghijklmnopqrstuvwxyz'"
      ]
     },
     "execution_count": 49,
     "metadata": {},
     "output_type": "execute_result"
    }
   ],
   "source": [
    "string.letters"
   ]
  },
  {
   "cell_type": "code",
   "execution_count": 50,
   "metadata": {
    "collapsed": false
   },
   "outputs": [
    {
     "data": {
      "text/plain": [
       "'0123456789'"
      ]
     },
     "execution_count": 50,
     "metadata": {},
     "output_type": "execute_result"
    }
   ],
   "source": [
    "string.digits"
   ]
  },
  {
   "cell_type": "code",
   "execution_count": 51,
   "metadata": {
    "collapsed": false
   },
   "outputs": [],
   "source": [
    "#判断字符是否包含在另一个序列中\n",
    "print 'a' in 'abcdox'\n",
    "print 'xa' in string.letters"
   ]
  },
  {
   "cell_type": "code",
   "execution_count": 52,
   "metadata": {
    "collapsed": false
   },
   "outputs": [],
   "source": [
    "def encode_utf8(string):\n",
    "    return string.encode('utf-8')\n",
    "\n",
    "def decode_utf8(string):\n",
    "    return unicode(string,encoding='utf-8')"
   ]
  },
  {
   "cell_type": "code",
   "execution_count": 53,
   "metadata": {
    "collapsed": false
   },
   "outputs": [],
   "source": [
    "a = \"My name is Mares\"\n",
    "print string.split(a,' ')"
   ]
  },
  {
   "cell_type": "code",
   "execution_count": 54,
   "metadata": {
    "collapsed": false
   },
   "outputs": [],
   "source": [
    "a = \"大家好，我来自华工。今天很高兴与大家相遇。\"\n",
    "b = string.split(a,'。')\n",
    "\n",
    "print b[0],b[1]"
   ]
  },
  {
   "cell_type": "markdown",
   "metadata": {},
   "source": [
    "#### 普通字符串转化为Unicode字符串\n"
   ]
  },
  {
   "cell_type": "code",
   "execution_count": 55,
   "metadata": {
    "collapsed": false
   },
   "outputs": [],
   "source": [
    "a = u'Hello'\n",
    "print a"
   ]
  },
  {
   "cell_type": "code",
   "execution_count": 56,
   "metadata": {
    "collapsed": false
   },
   "outputs": [
    {
     "data": {
      "text/plain": [
       "unicode"
      ]
     },
     "execution_count": 56,
     "metadata": {},
     "output_type": "execute_result"
    }
   ],
   "source": [
    "type(a)"
   ]
  },
  {
   "cell_type": "markdown",
   "metadata": {},
   "source": [
    "#### 输出原始字符操作符(r/R)"
   ]
  },
  {
   "cell_type": "code",
   "execution_count": 57,
   "metadata": {
    "collapsed": false
   },
   "outputs": [],
   "source": [
    "print '\\n'"
   ]
  },
  {
   "cell_type": "code",
   "execution_count": 58,
   "metadata": {
    "collapsed": false
   },
   "outputs": [],
   "source": [
    "print r'\\n'"
   ]
  },
  {
   "cell_type": "markdown",
   "metadata": {
    "collapsed": false
   },
   "source": [
    "#### 文件读写"
   ]
  },
  {
   "cell_type": "code",
   "execution_count": 59,
   "metadata": {
    "collapsed": false
   },
   "outputs": [],
   "source": [
    "output = open('data.txt','w')\n",
    "output.write('你是谁\\n')\n",
    "output.write('你好吵呀！')\n",
    "output.close()"
   ]
  },
  {
   "cell_type": "code",
   "execution_count": 60,
   "metadata": {
    "collapsed": false
   },
   "outputs": [],
   "source": [
    "input = open('data.txt','r')\n",
    "str = input.read()\n",
    "print str\n",
    "input.close()"
   ]
  },
  {
   "cell_type": "code",
   "execution_count": 61,
   "metadata": {
    "collapsed": false
   },
   "outputs": [],
   "source": [
    "with open('data.txt') as input:\n",
    "    for line in input:\n",
    "        print line.strip()"
   ]
  },
  {
   "cell_type": "code",
   "execution_count": 62,
   "metadata": {
    "collapsed": false
   },
   "outputs": [],
   "source": [
    "with open('data.txt') as input:\n",
    "    line = input.readline()\n",
    "    while(line):\n",
    "        print line.strip()\n",
    "        line = input.readline()"
   ]
  },
  {
   "cell_type": "code",
   "execution_count": 63,
   "metadata": {
    "collapsed": false
   },
   "outputs": [
    {
     "ename": "NameError",
     "evalue": "name 'CODE' is not defined",
     "output_type": "error",
     "traceback": [
      "\u001b[0;31m\u001b[0m",
      "\u001b[0;31mNameError\u001b[0mTraceback (most recent call last)",
      "\u001b[0;32m<ipython-input-63-9120b5d0b055>\u001b[0m in \u001b[0;36m<module>\u001b[0;34m()\u001b[0m\n\u001b[1;32m      4\u001b[0m \u001b[0;34m\u001b[0m\u001b[0m\n\u001b[1;32m      5\u001b[0m \u001b[0mhello_out\u001b[0m \u001b[0;34m=\u001b[0m \u001b[0;34mu\"Hello world\\n\"\u001b[0m\u001b[0;34m\u001b[0m\u001b[0m\n\u001b[0;32m----> 6\u001b[0;31m \u001b[0mbytes_out\u001b[0m \u001b[0;34m=\u001b[0m \u001b[0mhello_out\u001b[0m\u001b[0;34m.\u001b[0m\u001b[0mencode\u001b[0m\u001b[0;34m(\u001b[0m\u001b[0mCODE\u001b[0m\u001b[0;34m)\u001b[0m\u001b[0;34m\u001b[0m\u001b[0m\n\u001b[0m\u001b[1;32m      7\u001b[0m \u001b[0mf\u001b[0m \u001b[0;34m=\u001b[0m \u001b[0mopen\u001b[0m\u001b[0;34m(\u001b[0m\u001b[0mFILE\u001b[0m\u001b[0;34m,\u001b[0m \u001b[0;34m\"w\"\u001b[0m\u001b[0;34m)\u001b[0m\u001b[0;34m\u001b[0m\u001b[0m\n\u001b[1;32m      8\u001b[0m \u001b[0mf\u001b[0m\u001b[0;34m.\u001b[0m\u001b[0mwrite\u001b[0m\u001b[0;34m(\u001b[0m\u001b[0mbytes_out\u001b[0m\u001b[0;34m)\u001b[0m\u001b[0;34m\u001b[0m\u001b[0m\n",
      "\u001b[0;31mNameError\u001b[0m: name 'CODE' is not defined"
     ]
    }
   ],
   "source": [
    "#### 简单Unicode字符串例子\n",
    "CODEC = 'utf-8'\n",
    "FILE = 'unicode.txt'\n",
    "\n",
    "hello_out = u\"Hello world\\n\"\n",
    "bytes_out = hello_out.encode(CODE)\n",
    "f = open(FILE, \"w\")\n",
    "f.write(bytes_out)\n",
    "f.close()\n",
    "\n",
    "f = open(FILE,\"r\")\n",
    "bytes_in =  f.read()\n",
    "f.close()\n",
    "hello_in = bytes_in.decode(CODEC)\n",
    "print hello_in,"
   ]
  },
  {
   "cell_type": "markdown",
   "metadata": {},
   "source": [
    "#### 拷贝Pyhon对象、浅拷贝和深拷贝"
   ]
  },
  {
   "cell_type": "code",
   "execution_count": null,
   "metadata": {
    "collapsed": false
   },
   "outputs": [],
   "source": [
    "# 浅拷贝\n",
    "person = ['name',['savings',100.00]]\n",
    "hubby = person[:] \n",
    "wifey = list(person)\n",
    "\n",
    "hubby[0] = 'joe'\n",
    "wifey[0] = 'jane'\n",
    "hubby[1][1] = 50.00\n",
    "print hubby,wifey\n",
    "print [id(x) for x in hubby]\n",
    "print [id(x) for x in wifey]   # 后面的ID一样的。"
   ]
  },
  {
   "cell_type": "code",
   "execution_count": null,
   "metadata": {
    "collapsed": false
   },
   "outputs": [],
   "source": [
    "# 深拷贝\n",
    "import copy\n",
    "hubby = person\n",
    "wifey = copy.deepcopy(person)\n",
    "print hubby,wifey"
   ]
  },
  {
   "cell_type": "code",
   "execution_count": null,
   "metadata": {
    "collapsed": false
   },
   "outputs": [],
   "source": [
    "hubby[1][1] = 20.0\n",
    "print hubby,wifey"
   ]
  },
  {
   "cell_type": "code",
   "execution_count": 1,
   "metadata": {
    "collapsed": false
   },
   "outputs": [
    {
     "name": "stdout",
     "output_type": "stream",
     "text": [
      "1\n"
     ]
    }
   ],
   "source": [
    "a = raw_input()"
   ]
  },
  {
   "cell_type": "code",
   "execution_count": null,
   "metadata": {
    "collapsed": true
   },
   "outputs": [],
   "source": []
  }
 ],
 "metadata": {
  "kernelspec": {
   "display_name": "Python 2",
   "language": "python",
   "name": "python2"
  },
  "language_info": {
   "codemirror_mode": {
    "name": "ipython",
    "version": 2
   },
   "file_extension": ".py",
   "mimetype": "text/x-python",
   "name": "python",
   "nbconvert_exporter": "python",
   "pygments_lexer": "ipython2",
   "version": "2.7.6"
  }
 },
 "nbformat": 4,
 "nbformat_minor": 2
}

{
 "cells": [
  {
   "cell_type": "markdown",
   "metadata": {},
   "source": [
    "# python练习题"
   ]
  },
  {
   "cell_type": "markdown",
   "metadata": {},
   "source": [
    "1、题目：有四个数字：1、2、3、4，能组成多少个互不相同且无重复数字的三位数？各是多少？\n",
    "\n",
    "程序分析：可填在百位、十位、个位的数字都是1、2、3、4。组成所有的排列后再去 掉不满足条件的排列。 （更有效的方法采用深度优先遍历）"
   ]
  },
  {
   "cell_type": "code",
   "execution_count": 3,
   "metadata": {
    "collapsed": false
   },
   "outputs": [
    {
     "name": "stdout",
     "output_type": "stream",
     "text": [
      "0 1 2\n",
      "0 1 3\n",
      "0 2 1\n",
      "0 2 3\n",
      "0 3 1\n",
      "0 3 2\n",
      "1 0 2\n",
      "1 0 3\n",
      "1 2 0\n",
      "1 2 3\n",
      "1 3 0\n",
      "1 3 2\n",
      "2 0 1\n",
      "2 0 3\n",
      "2 1 0\n",
      "2 1 3\n",
      "2 3 0\n",
      "2 3 1\n",
      "3 0 1\n",
      "3 0 2\n",
      "3 1 0\n",
      "3 1 2\n",
      "3 2 0\n",
      "3 2 1\n",
      "总数为： 24\n"
     ]
    }
   ],
   "source": [
    "num = 0\n",
    "for i in range(4):\n",
    "    for j in range(4):\n",
    "        for k in range(4):\n",
    "            if(i != j and j != k and i != k):\n",
    "                print i,j,k\n",
    "                num +=1\n",
    "print \"总数为：\",num"
   ]
  },
  {
   "cell_type": "markdown",
   "metadata": {},
   "source": [
    "题目2：企业发放的奖金根据利润提成。利润(I)低于或等于10万元时，奖金可提10%；利润高于10万元，低于20万元时，低于10万元的部分按10%提成，高于10万元的部分，可提成7.5%；20万到40万之间时，高于20万元的部分，可提成5%；40万到60万之间时高于40万元的部分，可提成3%；60万到100万之间时，高于60万元的部分，可提成1.5%，高于100万元时，超过100万元的部分按1%提成，从键盘输入当月利润I，求应发放奖金总数？\n",
    "\n",
    "程序分析：请利用数轴来分界，定位。注意定义时需把奖金定义成长整型。  下面的处理方法的确比较很有效，比我一开始想的if ... elif要好很多。"
   ]
  },
  {
   "cell_type": "code",
   "execution_count": 10,
   "metadata": {
    "collapsed": false
   },
   "outputs": [
    {
     "name": "stdout",
     "output_type": "stream",
     "text": [
      "净利润:30000\n",
      "3000.0\n",
      "3000.0\n"
     ]
    }
   ],
   "source": [
    "i = int(raw_input('净利润:'))\n",
    "arr = [1000000,600000,400000,200000,100000,0]\n",
    "rat = [0.01,0.015,0.03,0.05,0.075,0.1]\n",
    "r = 0\n",
    "for idx in range(0,6):\n",
    "    if i>arr[idx]:\n",
    "        r+=(i-arr[idx])*rat[idx]\n",
    "        print (i-arr[idx])*rat[idx]\n",
    "        i=arr[idx]\n",
    "print r"
   ]
  },
  {
   "cell_type": "markdown",
   "metadata": {},
   "source": [
    "题目3：一个整数，它加上100后是一个完全平方数，再加上168又是一个完全平方数，请问该数是多少？\n",
    "```\n",
    "程序分析：\n",
    "假设该数为 x。\n",
    "1、则：x + 100 = n2, x + 100 + 168 = m2\n",
    "2、计算等式：m2 - n2 = (m + n)(m - n) = 168\n",
    "3、设置： m + n = i，m - n = j，i * j =168，i 和 j 至少一个是偶数\n",
    "4、可得： m = (i + j) / 2， n = (i - j) / 2，i 和 j 要么都是偶数，要么都是奇数。\n",
    "5、从 3 和 4 推导可知道，i 与 j 均是大于等于 2 的偶数。\n",
    "6、由于 i * j = 168， j>=2，则 1 < i < 168 / 2 + 1。\n",
    "7、接下来将 i 的所有数字循环计算即可。\n",
    "```"
   ]
  },
  {
   "cell_type": "code",
   "execution_count": 1,
   "metadata": {
    "collapsed": false
   },
   "outputs": [
    {
     "name": "stdout",
     "output_type": "stream",
     "text": [
      "-99\n",
      "21\n",
      "261\n",
      "1581\n"
     ]
    }
   ],
   "source": [
    "for i in range(1,85):\n",
    "    if 168 % i == 0:\n",
    "        j = 168 / i;\n",
    "        if  i > j and (i + j) % 2 == 0 and (i - j) % 2 == 0 :\n",
    "            m = (i + j) / 2\n",
    "            n = (i - j) / 2\n",
    "            x = n * n - 100\n",
    "            print(x)"
   ]
  },
  {
   "cell_type": "code",
   "execution_count": 2,
   "metadata": {
    "collapsed": false
   },
   "outputs": [
    {
     "name": "stdout",
     "output_type": "stream",
     "text": [
      "21\n",
      "261\n"
     ]
    }
   ],
   "source": [
    "#下面这种思路是我自己想的，不过并不能得到最优解\n",
    "import math as m\n",
    "for i in range(1000):\n",
    "    n = i+100\n",
    "    u = m.sqrt(n)\n",
    "    if m.ceil(u)==m.floor(u):\n",
    "        n += 168\n",
    "        u = m.sqrt(n)\n",
    "        if m.ceil(u)==m.floor(u):\n",
    "            print i\n"
   ]
  },
  {
   "cell_type": "code",
   "execution_count": 17,
   "metadata": {
    "collapsed": false
   },
   "outputs": [
    {
     "name": "stdout",
     "output_type": "stream",
     "text": [
      "Indentifier to test?lfjadljf\n",
      "okay as an identifier\n"
     ]
    }
   ],
   "source": [
    "import string\n",
    "\n",
    "alphas = string.letters + '_'\n",
    "nums = string.digits\n",
    "alphnums = alphas + nums\n",
    "step = 0\n",
    "myInput = raw_input(\"Indentifier to test?\")\n",
    "\n",
    "if len(myInput) > 1:\n",
    "    if(myInput[0] not in alphas):\n",
    "        print '''invalid: first symbol must be alphabetic'''\n",
    "    else:\n",
    "        for otherChar in myInput[1:]:\n",
    "            if otherChar not in alphnums:\n",
    "                step = 1\n",
    "                print '''invalid:remaining\n",
    "                    symbbols must be alphanumeric'''\n",
    "                break\n",
    "        if step==0:\n",
    "             print \"okay as an identifier\"\n",
    "               "
   ]
  },
  {
   "cell_type": "markdown",
   "metadata": {},
   "source": [
    "题目：输入某年某月某日，判断这一天是这一年的第几天？\n",
    "\n",
    "程序分析：以3月5日为例，应该先把前两个月的加起来，然后再加上5天即本年的第几天，特殊情况，闰年且输入月份大于2时需考虑多加一天："
   ]
  },
  {
   "cell_type": "code",
   "execution_count": 1,
   "metadata": {
    "collapsed": false
   },
   "outputs": [
    {
     "name": "stdout",
     "output_type": "stream",
     "text": [
      "\n"
     ]
    }
   ],
   "source": [
    "year, = raw_input()\n"
   ]
  },
  {
   "cell_type": "markdown",
   "metadata": {},
   "source": [
    "2017年百度自然语言校招"
   ]
  }
 ],
 "metadata": {
  "kernelspec": {
   "display_name": "Python 2",
   "language": "python",
   "name": "python2"
  },
  "language_info": {
   "codemirror_mode": {
    "name": "ipython",
    "version": 2
   },
   "file_extension": ".py",
   "mimetype": "text/x-python",
   "name": "python",
   "nbconvert_exporter": "python",
   "pygments_lexer": "ipython2",
   "version": "2.7.6"
  }
 },
 "nbformat": 4,
 "nbformat_minor": 2
}

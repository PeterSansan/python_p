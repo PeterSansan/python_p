{
 "cells": [
  {
   "cell_type": "markdown",
   "metadata": {},
   "source": [
    "# numpy教程2_高级数学"
   ]
  },
  {
   "cell_type": "markdown",
   "metadata": {},
   "source": [
    "## 1.线性代数模型(linalg)"
   ]
  },
  {
   "cell_type": "code",
   "execution_count": 11,
   "metadata": {
    "collapsed": true
   },
   "outputs": [],
   "source": [
    "import numpy as np"
   ]
  },
  {
   "cell_type": "code",
   "execution_count": 3,
   "metadata": {
    "collapsed": false
   },
   "outputs": [
    {
     "data": {
      "text/plain": [
       "5.0"
      ]
     },
     "execution_count": 3,
     "metadata": {},
     "output_type": "execute_result"
    }
   ],
   "source": [
    "a = np.array([3,4])\n",
    "np.linalg.norm(a) # 求绝对值"
   ]
  },
  {
   "cell_type": "code",
   "execution_count": 4,
   "metadata": {
    "collapsed": true
   },
   "outputs": [],
   "source": [
    "b = np.array([\n",
    "    [1,2,3],\n",
    "    [4,5,6],\n",
    "    [7,8,9]\n",
    "])\n",
    "c= np.array([1,0,1])\n",
    "# 矩阵和向量之间的算法"
   ]
  },
  {
   "cell_type": "code",
   "execution_count": 5,
   "metadata": {
    "collapsed": false
   },
   "outputs": [
    {
     "data": {
      "text/plain": [
       "array([ 4, 10, 16])"
      ]
     },
     "execution_count": 5,
     "metadata": {},
     "output_type": "execute_result"
    }
   ],
   "source": [
    "np.dot(b,c)"
   ]
  },
  {
   "cell_type": "code",
   "execution_count": 6,
   "metadata": {
    "collapsed": false
   },
   "outputs": [
    {
     "data": {
      "text/plain": [
       "array([ 4, 10, 16])"
      ]
     },
     "execution_count": 6,
     "metadata": {},
     "output_type": "execute_result"
    }
   ],
   "source": [
    "np.dot(c,b.T)"
   ]
  },
  {
   "cell_type": "code",
   "execution_count": 7,
   "metadata": {
    "collapsed": false
   },
   "outputs": [
    {
     "data": {
      "text/plain": [
       "15"
      ]
     },
     "execution_count": 7,
     "metadata": {},
     "output_type": "execute_result"
    }
   ],
   "source": [
    "np.trace(b)  # 求矩阵的迹"
   ]
  },
  {
   "cell_type": "code",
   "execution_count": 8,
   "metadata": {
    "collapsed": false
   },
   "outputs": [
    {
     "data": {
      "text/plain": [
       "0.0"
      ]
     },
     "execution_count": 8,
     "metadata": {},
     "output_type": "execute_result"
    }
   ],
   "source": [
    "np.linalg.det(b) # 行列式值"
   ]
  },
  {
   "cell_type": "code",
   "execution_count": 10,
   "metadata": {
    "collapsed": false
   },
   "outputs": [
    {
     "data": {
      "text/plain": [
       "2"
      ]
     },
     "execution_count": 10,
     "metadata": {},
     "output_type": "execute_result"
    }
   ],
   "source": [
    "np.linalg.matrix_rank(b)  # 矩阵的秩，2，不满秩，因为行与行之间等差"
   ]
  },
  {
   "cell_type": "code",
   "execution_count": 11,
   "metadata": {
    "collapsed": true
   },
   "outputs": [],
   "source": [
    "d = np.array([\n",
    "    [2,1],\n",
    "    [1,2]\n",
    "])"
   ]
  },
  {
   "cell_type": "code",
   "execution_count": 14,
   "metadata": {
    "collapsed": false
   },
   "outputs": [
    {
     "name": "stdout",
     "output_type": "stream",
     "text": [
      "[ 3.  1.] [[ 0.70710678 -0.70710678]\n",
      " [ 0.70710678  0.70710678]]\n"
     ]
    }
   ],
   "source": [
    "u,v = np.linalg.eig(d) \n",
    "print u,v   # 特征值与特征向量"
   ]
  },
  {
   "cell_type": "code",
   "execution_count": 16,
   "metadata": {
    "collapsed": false
   },
   "outputs": [
    {
     "name": "stdout",
     "output_type": "stream",
     "text": [
      "[ 1.  3.] [[-0.70710678  0.70710678]\n",
      " [ 0.70710678  0.70710678]]\n"
     ]
    }
   ],
   "source": [
    "u,v = np.linalg.eigh(d)  # eigh更快更稳定，不过输出的值的顺序和eig（）是相反的\n",
    "print u,v"
   ]
  },
  {
   "cell_type": "code",
   "execution_count": 20,
   "metadata": {
    "collapsed": false
   },
   "outputs": [],
   "source": [
    "l = np.linalg.cholesky(d) # 分解为A*AT"
   ]
  },
  {
   "cell_type": "code",
   "execution_count": 21,
   "metadata": {
    "collapsed": false
   },
   "outputs": [
    {
     "data": {
      "text/plain": [
       "array([[ 2.,  1.],\n",
       "       [ 1.,  2.]])"
      ]
     },
     "execution_count": 21,
     "metadata": {},
     "output_type": "execute_result"
    }
   ],
   "source": [
    "np.dot(l,l.T)"
   ]
  },
  {
   "cell_type": "code",
   "execution_count": 22,
   "metadata": {
    "collapsed": true
   },
   "outputs": [],
   "source": [
    "# c对非奇异矩阵，进行SVD分解并重建\n",
    "e = np.array([\n",
    "    [1,2],\n",
    "    [3,4]])"
   ]
  },
  {
   "cell_type": "code",
   "execution_count": 27,
   "metadata": {
    "collapsed": false
   },
   "outputs": [
    {
     "name": "stdout",
     "output_type": "stream",
     "text": [
      "U = [[-0.40455358 -0.9145143 ]\n",
      " [-0.9145143   0.40455358]] s = [ 5.4649857   0.36596619] V = [[-0.57604844 -0.81741556]\n",
      " [ 0.81741556 -0.57604844]]\n"
     ]
    }
   ],
   "source": [
    "U,s,V = np.linalg.svd(e)\n",
    "print \"U =\",U,\"s =\",s,\"V =\",V"
   ]
  },
  {
   "cell_type": "code",
   "execution_count": 29,
   "metadata": {
    "collapsed": false
   },
   "outputs": [
    {
     "data": {
      "text/plain": [
       "array([ 5.43063125,  0.7129125 ])"
      ]
     },
     "execution_count": 29,
     "metadata": {},
     "output_type": "execute_result"
    }
   ],
   "source": [
    "np.dot(U,np.dot(s,V))"
   ]
  },
  {
   "cell_type": "markdown",
   "metadata": {},
   "source": [
    "## 2.随机模块(random)"
   ]
  },
  {
   "cell_type": "code",
   "execution_count": 1,
   "metadata": {
    "collapsed": true
   },
   "outputs": [],
   "source": [
    "import numpy.random as random"
   ]
  },
  {
   "cell_type": "code",
   "execution_count": 3,
   "metadata": {
    "collapsed": true
   },
   "outputs": [],
   "source": [
    "random.seed(42) #设置随机数种子"
   ]
  },
  {
   "cell_type": "code",
   "execution_count": 4,
   "metadata": {
    "collapsed": false
   },
   "outputs": [
    {
     "data": {
      "text/plain": [
       "array([[ 0.37454012,  0.95071431,  0.73199394]])"
      ]
     },
     "execution_count": 4,
     "metadata": {},
     "output_type": "execute_result"
    }
   ],
   "source": [
    "random.rand(1,3) #　[0,1]之间"
   ]
  },
  {
   "cell_type": "code",
   "execution_count": 6,
   "metadata": {
    "collapsed": false
   },
   "outputs": [
    {
     "data": {
      "text/plain": [
       "0.5986584841970366"
      ]
     },
     "execution_count": 6,
     "metadata": {},
     "output_type": "execute_result"
    }
   ],
   "source": [
    "random.random() # 产生一个[0,1]之间的浮点型随机数"
   ]
  },
  {
   "cell_type": "code",
   "execution_count": 8,
   "metadata": {
    "collapsed": false
   },
   "outputs": [
    {
     "data": {
      "text/plain": [
       "array([[ 0.15601864,  0.15599452,  0.05808361],\n",
       "       [ 0.86617615,  0.60111501,  0.70807258],\n",
       "       [ 0.02058449,  0.96990985,  0.83244264]])"
      ]
     },
     "execution_count": 8,
     "metadata": {},
     "output_type": "execute_result"
    }
   ],
   "source": [
    "random.random([3,3]) # 下面几个的作用是一样的"
   ]
  },
  {
   "cell_type": "code",
   "execution_count": 9,
   "metadata": {
    "collapsed": false
   },
   "outputs": [
    {
     "data": {
      "text/plain": [
       "array([[ 0.21233911,  0.18182497,  0.18340451],\n",
       "       [ 0.30424224,  0.52475643,  0.43194502],\n",
       "       [ 0.29122914,  0.61185289,  0.13949386]])"
      ]
     },
     "execution_count": 9,
     "metadata": {},
     "output_type": "execute_result"
    }
   ],
   "source": [
    "random.sample([3,3])"
   ]
  },
  {
   "cell_type": "code",
   "execution_count": 13,
   "metadata": {
    "collapsed": false
   },
   "outputs": [
    {
     "data": {
      "text/plain": [
       "array([[ 0.29214465,  0.36636184,  0.45606998],\n",
       "       [ 0.78517596,  0.19967378,  0.51423444],\n",
       "       [ 0.59241457,  0.04645041,  0.60754485]])"
      ]
     },
     "execution_count": 13,
     "metadata": {},
     "output_type": "execute_result"
    }
   ],
   "source": [
    "random.random_sample([3,3])"
   ]
  },
  {
   "cell_type": "code",
   "execution_count": 15,
   "metadata": {
    "collapsed": false
   },
   "outputs": [
    {
     "data": {
      "text/plain": [
       "array([[ 0.17052412,  0.06505159,  0.94888554],\n",
       "       [ 0.96563203,  0.80839735,  0.30461377],\n",
       "       [ 0.09767211,  0.68423303,  0.44015249]])"
      ]
     },
     "execution_count": 15,
     "metadata": {},
     "output_type": "execute_result"
    }
   ],
   "source": [
    "random.ranf([3,3])"
   ]
  },
  {
   "cell_type": "code",
   "execution_count": 17,
   "metadata": {
    "collapsed": false
   },
   "outputs": [
    {
     "data": {
      "text/plain": [
       "array([ 5.84792314,  4.87566412,  5.69749471,  5.47413675,  3.98949989,\n",
       "        5.60937118,  1.44246251,  1.97991431,  1.22613644,  2.62665165])"
      ]
     },
     "execution_count": 17,
     "metadata": {},
     "output_type": "execute_result"
    }
   ],
   "source": [
    "# 产生10个[1,6]之间的浮点型随机数\n",
    "5*random.random(10)+1"
   ]
  },
  {
   "cell_type": "code",
   "execution_count": 18,
   "metadata": {
    "collapsed": false
   },
   "outputs": [
    {
     "data": {
      "text/plain": [
       "array([ 2.94338645,  2.35674516,  5.14368755,  2.78376663,  2.40467255,\n",
       "        3.71348042,  1.70462112,  5.0109849 ,  1.37275322,  5.93443468])"
      ]
     },
     "execution_count": 18,
     "metadata": {},
     "output_type": "execute_result"
    }
   ],
   "source": [
    "random.uniform(1,6,10)"
   ]
  },
  {
   "cell_type": "code",
   "execution_count": 19,
   "metadata": {
    "collapsed": false
   },
   "outputs": [
    {
     "data": {
      "text/plain": [
       "array([1, 4, 3, 3, 1, 3, 3, 1, 3, 5])"
      ]
     },
     "execution_count": 19,
     "metadata": {},
     "output_type": "execute_result"
    }
   ],
   "source": [
    "# 产生10个[1,6]之间的整型型随机数\n",
    "random.randint(1,6,10)"
   ]
  },
  {
   "cell_type": "code",
   "execution_count": 21,
   "metadata": {
    "collapsed": false
   },
   "outputs": [
    {
     "data": {
      "text/plain": [
       "array([[ 0.21158701,  0.59704465],\n",
       "       [-0.89633518, -0.11198782],\n",
       "       [ 1.46894129, -1.12389833],\n",
       "       [ 0.9500054 ,  1.72651647],\n",
       "       [ 0.45788508, -1.68428738]])"
      ]
     },
     "execution_count": 21,
     "metadata": {},
     "output_type": "execute_result"
    }
   ],
   "source": [
    "# 产生2*5的标准正态分布样本\n",
    "random.normal(size=(5,2))"
   ]
  },
  {
   "cell_type": "code",
   "execution_count": 22,
   "metadata": {
    "collapsed": false
   },
   "outputs": [
    {
     "data": {
      "text/plain": [
       "array([2, 5, 4, 3, 2])"
      ]
     },
     "execution_count": 22,
     "metadata": {},
     "output_type": "execute_result"
    }
   ],
   "source": [
    "# 产生5个,n=5,p=0.5的二项分布样本 \n",
    "random.binomial(n=5,p=0.5,size=5)"
   ]
  },
  {
   "cell_type": "code",
   "execution_count": 24,
   "metadata": {
    "collapsed": false
   },
   "outputs": [],
   "source": [
    "a = np.arange(10)"
   ]
  },
  {
   "cell_type": "code",
   "execution_count": 25,
   "metadata": {
    "collapsed": false
   },
   "outputs": [
    {
     "data": {
      "text/plain": [
       "array([6, 8, 9, 9, 2, 6, 0])"
      ]
     },
     "execution_count": 25,
     "metadata": {},
     "output_type": "execute_result"
    }
   ],
   "source": [
    "# 从a中随机采样7个\n",
    "random.choice(a,7)"
   ]
  },
  {
   "cell_type": "code",
   "execution_count": 26,
   "metadata": {
    "collapsed": false
   },
   "outputs": [
    {
     "data": {
      "text/plain": [
       "array([7, 1, 8, 0, 2, 6, 4])"
      ]
     },
     "execution_count": 26,
     "metadata": {},
     "output_type": "execute_result"
    }
   ],
   "source": [
    "# 从a中无回放的随机采样7个\n",
    "random.choice(a,7,replace=False)"
   ]
  },
  {
   "cell_type": "code",
   "execution_count": 28,
   "metadata": {
    "collapsed": false
   },
   "outputs": [
    {
     "data": {
      "text/plain": [
       "array([8, 9, 4, 0, 7, 1, 3, 5, 2, 6])"
      ]
     },
     "execution_count": 28,
     "metadata": {},
     "output_type": "execute_result"
    }
   ],
   "source": [
    "# 对a进行乱序并返回一个新的array\n",
    "random.permutation(a)"
   ]
  },
  {
   "cell_type": "code",
   "execution_count": 31,
   "metadata": {
    "collapsed": false
   },
   "outputs": [
    {
     "data": {
      "text/plain": [
       "array([9, 4, 1, 0, 6, 3, 2, 5, 8, 7])"
      ]
     },
     "execution_count": 31,
     "metadata": {},
     "output_type": "execute_result"
    }
   ],
   "source": [
    "# 对a进行打散操作\n",
    "random.shuffle(a)\n",
    "a"
   ]
  },
  {
   "cell_type": "code",
   "execution_count": 32,
   "metadata": {
    "collapsed": false
   },
   "outputs": [
    {
     "data": {
      "text/plain": [
       "'\\xe0|C\\xb12\\x7f\\xaf\\x1e\\xe9'"
      ]
     },
     "execution_count": 32,
     "metadata": {},
     "output_type": "execute_result"
    }
   ],
   "source": [
    "# 生成一个长充为9的随机bytes序列并作秋str返回\n",
    "random.bytes(9)"
   ]
  },
  {
   "cell_type": "markdown",
   "metadata": {},
   "source": [
    "随机模块可以很方便地让我们做一些快速模拟去验证一些结论。比如来考虑一个非常违反直觉的概率题例子：一个选手去参加一个TV秀，有三扇门，其中一扇门后有奖品，这扇门只有主持人知道。选手先随机选一扇门，但并不打开，主持人看到后，会打开其余两扇门中没有奖品的一扇门。然后，主持人问选手，是否要改变一开始的选择？\n",
    "\n",
    "这个问题的答案是应该改变一开始的选择。在第一次选择的时候，选错的概率是2/3，选对的概率是1/3。第一次选择之后，主持人相当于帮忙剔除了一个错误答案，所以如果一开始选的是错的，这时候换掉就选对了；而如果一开始就选对，则这时候换掉就错了。根据以上，一开始选错的概率就是换掉之后选对的概率（2/3），这个概率大于一开始就选对的概率（1/3），所以应该换。虽然道理上是这样，但是还是有些绕，要是通过推理就是搞不明白怎么办，没关系，用随机模拟就可以轻松得到答案："
   ]
  },
  {
   "cell_type": "code",
   "execution_count": 33,
   "metadata": {
    "collapsed": false
   },
   "outputs": [
    {
     "name": "stdout",
     "output_type": "stream",
     "text": [
      "You win 6616 out of 10000 tests if you changed your mind\n",
      "You win 3384 out of 10000 tests if you insist on the initial choice\n"
     ]
    }
   ],
   "source": [
    "import numpy.random as random\n",
    "\n",
    "random.seed(42)\n",
    "\n",
    "# 做10000次实验\n",
    "n_tests = 10000\n",
    "\n",
    "# 生成每次实验的奖品所在的门的编号\n",
    "# 0表示第一扇门，1表示第二扇门，2表示第三扇门\n",
    "winning_doors = random.randint(0, 3, n_tests)\n",
    "\n",
    "# 记录如果换门的中奖次数\n",
    "change_mind_wins = 0\n",
    "\n",
    "# 记录如果坚持的中奖次数\n",
    "insist_wins = 0\n",
    "\n",
    "# winning_door就是获胜门的编号\n",
    "for winning_door in winning_doors:\n",
    "\n",
    "    # 随机挑了一扇门\n",
    "    first_try = random.randint(0, 3)\n",
    "    \n",
    "    # 其他门的编号\n",
    "    remaining_choices = [i for i in range(3) if i != first_try]\n",
    "  \n",
    "    # 没有奖品的门的编号，这个信息只有主持人知道\n",
    "    wrong_choices = [i for i in range(3) if i != winning_door]\n",
    "\n",
    "    # 一开始选择的门主持人没法打开，所以从主持人可以打开的门中剔除\n",
    "    if first_try in wrong_choices:\n",
    "        wrong_choices.remove(first_try)\n",
    "    \n",
    "    # 这时wrong_choices变量就是主持人可以打开的门的编号\n",
    "    # 注意此时如果一开始选择正确，则可以打开的门是两扇，主持人随便开一扇门\n",
    "    # 如果一开始选到了空门，则主持人只能打开剩下一扇空门\n",
    "    screened_out = random.choice(wrong_choices)\n",
    "    remaining_choices.remove(screened_out)\n",
    "    \n",
    "    # 所以虽然代码写了好些行，如果策略固定的话，\n",
    "    # 改变主意的获胜概率就是一开始选错的概率，是2/3\n",
    "    # 而坚持选择的获胜概率就是一开始就选对的概率，是1/3\n",
    "    \n",
    "    # 现在除了一开始选择的编号，和主持人帮助剔除的错误编号，只剩下一扇门\n",
    "    # 如果要改变注意则这扇门就是最终的选择\n",
    "    changed_mind_try = remaining_choices[0]\n",
    "\n",
    "    # 结果揭晓，记录下来\n",
    "    change_mind_wins += 1 if changed_mind_try == winning_door else 0\n",
    "    insist_wins += 1 if first_try == winning_door else 0\n",
    "\n",
    "# 输出10000次测试的最终结果，和推导的结果差不多：\n",
    "# You win 6616 out of 10000 tests if you changed your mind\n",
    "# You win 3384 out of 10000 tests if you insist on the initial choice\n",
    "print(\n",
    "    'You win {1} out of {0} tests if you changed your mind\\n'\n",
    "    'You win {2} out of {0} tests if you insist on the initial choice'.format(\n",
    "        n_tests, change_mind_wins, insist_wins\n",
    "        )\n",
    ")"
   ]
  }
 ],
 "metadata": {
  "kernelspec": {
   "display_name": "Python 2",
   "language": "python",
   "name": "python2"
  },
  "language_info": {
   "codemirror_mode": {
    "name": "ipython",
    "version": 2
   },
   "file_extension": ".py",
   "mimetype": "text/x-python",
   "name": "python",
   "nbconvert_exporter": "python",
   "pygments_lexer": "ipython2",
   "version": "2.7.6"
  }
 },
 "nbformat": 4,
 "nbformat_minor": 2
}
